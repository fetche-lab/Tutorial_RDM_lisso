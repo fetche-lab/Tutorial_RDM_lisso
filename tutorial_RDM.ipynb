{
 "cells": [
  {
   "cell_type": "markdown",
   "id": "88938f2e-96d6-4b6f-b5fe-7aa9d6d3c3be",
   "metadata": {},
   "source": [
    "### Data analysis, examining the relationshio between Pulse and Calories.\n",
    "\n",
    "#### We'll use the pandas library and matplotlib.pyplot for analysis and plotting graphs."
   ]
  },
  {
   "cell_type": "code",
   "execution_count": 1,
   "id": "07f35fa9-b514-45e2-9162-f190a35ea766",
   "metadata": {},
   "outputs": [],
   "source": [
    "import pandas as pd\n"
   ]
  },
  {
   "cell_type": "code",
   "execution_count": 3,
   "id": "d6d1264f-76dd-47b8-ac4b-d7935cf6c335",
   "metadata": {},
   "outputs": [
    {
     "name": "stdout",
     "output_type": "stream",
     "text": [
      "Collecting matplotlib\n",
      "  Downloading matplotlib-3.5.2-cp310-cp310-manylinux_2_17_x86_64.manylinux2014_x86_64.whl (11.9 MB)\n",
      "\u001b[K     |████████████████████████████████| 11.9 MB 39 kB/s  eta 0:00:01\n",
      "\u001b[?25hRequirement already satisfied: pyparsing>=2.2.1 in /home/felix/anaconda3/envs/bioinf1/lib/python3.10/site-packages (from matplotlib) (3.0.4)\n",
      "Requirement already satisfied: packaging>=20.0 in /home/felix/anaconda3/envs/bioinf1/lib/python3.10/site-packages (from matplotlib) (21.3)\n",
      "Requirement already satisfied: python-dateutil>=2.7 in /home/felix/anaconda3/envs/bioinf1/lib/python3.10/site-packages (from matplotlib) (2.8.2)\n",
      "Collecting cycler>=0.10\n",
      "  Downloading cycler-0.11.0-py3-none-any.whl (6.4 kB)\n",
      "Collecting pillow>=6.2.0\n",
      "  Downloading Pillow-9.1.1-cp310-cp310-manylinux_2_17_x86_64.manylinux2014_x86_64.whl (3.1 MB)\n",
      "\u001b[K     |████████████████████████████████| 3.1 MB 331 kB/s eta 0:00:01\n",
      "\u001b[?25hCollecting kiwisolver>=1.0.1\n",
      "  Downloading kiwisolver-1.4.3-cp310-cp310-manylinux_2_12_x86_64.manylinux2010_x86_64.whl (1.6 MB)\n",
      "\u001b[K     |████████████████████████████████| 1.6 MB 376 kB/s eta 0:00:01\n",
      "\u001b[?25hCollecting fonttools>=4.22.0\n",
      "  Downloading fonttools-4.33.3-py3-none-any.whl (930 kB)\n",
      "\u001b[K     |████████████████████████████████| 930 kB 338 kB/s eta 0:00:01\n",
      "\u001b[?25hRequirement already satisfied: numpy>=1.17 in /home/felix/anaconda3/envs/bioinf1/lib/python3.10/site-packages (from matplotlib) (1.22.4)\n",
      "Requirement already satisfied: six>=1.5 in /home/felix/anaconda3/envs/bioinf1/lib/python3.10/site-packages (from python-dateutil>=2.7->matplotlib) (1.16.0)\n",
      "Installing collected packages: pillow, kiwisolver, fonttools, cycler, matplotlib\n",
      "Successfully installed cycler-0.11.0 fonttools-4.33.3 kiwisolver-1.4.3 matplotlib-3.5.2 pillow-9.1.1\n",
      "Note: you may need to restart the kernel to use updated packages.\n"
     ]
    }
   ],
   "source": [
    "pip install matplotlib"
   ]
  },
  {
   "cell_type": "code",
   "execution_count": 2,
   "id": "e0c20e36-b95a-40c6-9f80-6e61869dbf44",
   "metadata": {},
   "outputs": [],
   "source": [
    "import matplotlib.pyplot as plt"
   ]
  },
  {
   "cell_type": "code",
   "execution_count": 3,
   "id": "ba599ccf-1adf-4d18-9aa5-dca426881d70",
   "metadata": {},
   "outputs": [
    {
     "name": "stdout",
     "output_type": "stream",
     "text": [
      "    Unnamed: 0  Duration        Date  Pulse  Maxpulse  Calories\n",
      "0            0        60  2020-12-01    110       130     409.1\n",
      "1            1        60  2020-12-02    117       145     479.0\n",
      "2            2        60  2020-12-03    103       135     340.0\n",
      "3            3        45  2020-12-04    109       175     282.4\n",
      "4            4        45  2020-12-05    117       148     406.0\n",
      "5            5        60  2020-12-06    102       127     300.0\n",
      "6            6        60  2020-12-07    110       136     374.0\n",
      "7            7        45  2020-12-08    104       134     253.3\n",
      "8            8        30  2020-12-09    109       133     195.1\n",
      "9            9        60  2020-12-10     98       124     269.0\n",
      "10          10        60  2020-12-11    103       147     329.3\n",
      "11          11        60  2020-12-12    100       120     250.7\n",
      "12          12        60  2020-12-12    100       120     250.7\n",
      "13          13        60  2020-12-13    106       128     345.3\n",
      "14          14        60  2020-12-14    104       132     379.3\n",
      "15          15        60  2020-12-15     98       123     275.0\n",
      "16          16        60  2020-12-16     98       120     215.2\n",
      "17          17        60  2020-12-17    100       120     300.0\n",
      "18          18        45  2020-12-18     90       112     130.0\n",
      "19          19        60  2020-12-19    103       123     323.0\n",
      "20          20        45  2020-12-20     97       125     243.0\n",
      "21          21        60  2020-12-21    108       131     364.2\n",
      "22          22        45  2020-12-22    100       119     282.0\n",
      "23          23        60  2020-12-23    130       101     300.0\n",
      "24          24        45  2020-12-24    105       132     246.0\n",
      "25          25        60  2020-12-25    102       126     334.5\n",
      "26          26        60  2020-12-26    100       120     250.0\n",
      "27          27        60  2020-12-27     92       118     241.0\n",
      "28          28        60  2020-12-28    103       132     130.0\n",
      "29          29        60  2020-12-29    100       132     280.0\n",
      "30          30        60  2020-12-30    102       129     380.3\n",
      "31          31        60  2020-12-31     92       115     243.0\n"
     ]
    }
   ],
   "source": [
    "df1=pd.read_csv('../Data/dirtydata_clean.csv')\n",
    "print(df1.to_string())"
   ]
  },
  {
   "cell_type": "code",
   "execution_count": 4,
   "id": "3bbc5792-e8ce-437f-8e10-6e13f9b016f3",
   "metadata": {},
   "outputs": [
    {
     "data": {
      "text/plain": [
       "(32, 6)"
      ]
     },
     "execution_count": 4,
     "metadata": {},
     "output_type": "execute_result"
    }
   ],
   "source": [
    "df1.shape"
   ]
  },
  {
   "cell_type": "code",
   "execution_count": 5,
   "id": "d3721ea9-6ec7-4412-b337-fb8c8bcf4280",
   "metadata": {},
   "outputs": [
    {
     "name": "stdout",
     "output_type": "stream",
     "text": [
      "<class 'pandas.core.frame.DataFrame'>\n",
      "RangeIndex: 32 entries, 0 to 31\n",
      "Data columns (total 6 columns):\n",
      " #   Column      Non-Null Count  Dtype  \n",
      "---  ------      --------------  -----  \n",
      " 0   Unnamed: 0  32 non-null     int64  \n",
      " 1   Duration    32 non-null     int64  \n",
      " 2   Date        32 non-null     object \n",
      " 3   Pulse       32 non-null     int64  \n",
      " 4   Maxpulse    32 non-null     int64  \n",
      " 5   Calories    32 non-null     float64\n",
      "dtypes: float64(1), int64(4), object(1)\n",
      "memory usage: 1.6+ KB\n"
     ]
    }
   ],
   "source": [
    "df1.info()"
   ]
  },
  {
   "cell_type": "code",
   "execution_count": 6,
   "id": "9696275c-a156-433a-ac7b-b4a983c7427d",
   "metadata": {},
   "outputs": [
    {
     "data": {
      "text/html": [
       "<div>\n",
       "<style scoped>\n",
       "    .dataframe tbody tr th:only-of-type {\n",
       "        vertical-align: middle;\n",
       "    }\n",
       "\n",
       "    .dataframe tbody tr th {\n",
       "        vertical-align: top;\n",
       "    }\n",
       "\n",
       "    .dataframe thead th {\n",
       "        text-align: right;\n",
       "    }\n",
       "</style>\n",
       "<table border=\"1\" class=\"dataframe\">\n",
       "  <thead>\n",
       "    <tr style=\"text-align: right;\">\n",
       "      <th></th>\n",
       "      <th>Unnamed: 0</th>\n",
       "      <th>Duration</th>\n",
       "      <th>Date</th>\n",
       "      <th>Pulse</th>\n",
       "      <th>Maxpulse</th>\n",
       "      <th>Calories</th>\n",
       "    </tr>\n",
       "  </thead>\n",
       "  <tbody>\n",
       "    <tr>\n",
       "      <th>0</th>\n",
       "      <td>0</td>\n",
       "      <td>60</td>\n",
       "      <td>2020-12-01</td>\n",
       "      <td>110</td>\n",
       "      <td>130</td>\n",
       "      <td>409.1</td>\n",
       "    </tr>\n",
       "    <tr>\n",
       "      <th>1</th>\n",
       "      <td>1</td>\n",
       "      <td>60</td>\n",
       "      <td>2020-12-02</td>\n",
       "      <td>117</td>\n",
       "      <td>145</td>\n",
       "      <td>479.0</td>\n",
       "    </tr>\n",
       "    <tr>\n",
       "      <th>2</th>\n",
       "      <td>2</td>\n",
       "      <td>60</td>\n",
       "      <td>2020-12-03</td>\n",
       "      <td>103</td>\n",
       "      <td>135</td>\n",
       "      <td>340.0</td>\n",
       "    </tr>\n",
       "    <tr>\n",
       "      <th>3</th>\n",
       "      <td>3</td>\n",
       "      <td>45</td>\n",
       "      <td>2020-12-04</td>\n",
       "      <td>109</td>\n",
       "      <td>175</td>\n",
       "      <td>282.4</td>\n",
       "    </tr>\n",
       "    <tr>\n",
       "      <th>4</th>\n",
       "      <td>4</td>\n",
       "      <td>45</td>\n",
       "      <td>2020-12-05</td>\n",
       "      <td>117</td>\n",
       "      <td>148</td>\n",
       "      <td>406.0</td>\n",
       "    </tr>\n",
       "  </tbody>\n",
       "</table>\n",
       "</div>"
      ],
      "text/plain": [
       "   Unnamed: 0  Duration        Date  Pulse  Maxpulse  Calories\n",
       "0           0        60  2020-12-01    110       130     409.1\n",
       "1           1        60  2020-12-02    117       145     479.0\n",
       "2           2        60  2020-12-03    103       135     340.0\n",
       "3           3        45  2020-12-04    109       175     282.4\n",
       "4           4        45  2020-12-05    117       148     406.0"
      ]
     },
     "execution_count": 6,
     "metadata": {},
     "output_type": "execute_result"
    }
   ],
   "source": [
    "df1.head()"
   ]
  },
  {
   "cell_type": "code",
   "execution_count": 7,
   "id": "fa35c2f3-4d45-4db8-9c3c-3f8550f32639",
   "metadata": {},
   "outputs": [
    {
     "data": {
      "image/png": "[encoded data removed]",
      "text/plain": [
       "<Figure size 432x288 with 1 Axes>"
      ]
     },
     "metadata": {
      "needs_background": "light"
     },
     "output_type": "display_data"
    }
   ],
   "source": [
    "## plotting a graph using pandas to examine the relationship between the pulse and the calories.\n",
    "df1.plot(kind='scatter',x='Calories' , y='Pulse',title = 'Calories vs Pulse');\n"
   ]
  },
  {
   "cell_type": "code",
   "execution_count": 8,
   "id": "b20a942b-59af-4609-8bbf-7fd677e362ea",
   "metadata": {},
   "outputs": [
    {
     "name": "stdout",
     "output_type": "stream",
     "text": [
      "0.5349333996626516\n"
     ]
    }
   ],
   "source": [
    "## checking for correlation\n",
    "df1_corr=df1['Calories'].corr(df1['Pulse'])\n",
    "print(df1_corr)\n"
   ]
  },
  {
   "cell_type": "code",
   "execution_count": 10,
   "id": "5218a396-8ce5-4dff-9c2b-7cc2c4991589",
   "metadata": {},
   "outputs": [
    {
     "data": {
      "image/png": "[encoded data removed]",
      "text/plain": [
       "<Figure size 432x288 with 1 Axes>"
      ]
     },
     "metadata": {
      "needs_background": "light"
     },
     "output_type": "display_data"
    }
   ],
   "source": [
    "### Examining the outliers in the two data sets\n",
    "## 01 Pulse column\n",
    "plt.boxplot(df1['Pulse'],vert=False)\n",
    "plt.xlabel('Pulse[Units]')\n",
    "plt.title('Data On pulse');"
   ]
  },
  {
   "cell_type": "code",
   "execution_count": 11,
   "id": "485c5396-c9e5-42b3-b918-22affe1a050d",
   "metadata": {},
   "outputs": [
    {
     "data": {
      "image/png": "[encoded data removed]",
      "text/plain": [
       "<Figure size 432x288 with 1 Axes>"
      ]
     },
     "metadata": {
      "needs_background": "light"
     },
     "output_type": "display_data"
    }
   ],
   "source": [
    "## 02 Calories column\n",
    "plt.boxplot(df1['Calories'])\n",
    "plt.xlabel('Calories[Units]')\n",
    "plt.title('Data On Calories');"
   ]
  },
  {
   "cell_type": "markdown",
   "id": "da9e553c-f521-4050-961d-27eb09b9801d",
   "metadata": {},
   "source": [
    "#### The scatter plot shows somewhat a positive correlation trend which has been calculated to be around 0.53\n",
    "#### There is also few outliers observed in the data distribution. This is well illustrated using the boxplot."
   ]
  },
  {
   "cell_type": "code",
   "execution_count": null,
   "id": "5cbf3026-3e05-4834-8fea-17e671fb76b2",
   "metadata": {},
   "outputs": [],
   "source": []
  }
 ],
 "metadata": {
  "kernelspec": {
   "display_name": "Python 3 (ipykernel)",
   "language": "python",
   "name": "python3"
  },
  "language_info": {
   "codemirror_mode": {
    "name": "ipython",
    "version": 3
   },
   "file_extension": ".py",
   "mimetype": "text/x-python",
   "name": "python",
   "nbconvert_exporter": "python",
   "pygments_lexer": "ipython3",
   "version": "3.10.4"
  }
 },
 "nbformat": 4,
 "nbformat_minor": 5
}
